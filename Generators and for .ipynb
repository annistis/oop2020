{
 "cells": [
  {
   "cell_type": "markdown",
   "metadata": {},
   "source": [
    "# Упражнение 1"
   ]
  },
  {
   "cell_type": "code",
   "execution_count": 2,
   "metadata": {},
   "outputs": [
    {
     "name": "stdout",
     "output_type": "stream",
     "text": [
      "1 3\n",
      "1 4\n",
      "2 3\n",
      "2 4\n",
      "\n"
     ]
    }
   ],
   "source": [
    "import itertools\n",
    "def get_cartesian_product(a, b):\n",
    "    for x, y in itertools.product([1, 2], [3, 4]):\n",
    "        yield (x, y)\n",
    "    \n",
    "for result in get_cartesian_product([1,2], [3,4]):\n",
    "    print(*result, end = '\\n')\n",
    "print()"
   ]
  },
  {
   "cell_type": "markdown",
   "metadata": {},
   "source": [
    "# Упражнение 2"
   ]
  },
  {
   "cell_type": "code",
   "execution_count": 3,
   "metadata": {},
   "outputs": [
    {
     "name": "stdout",
     "output_type": "stream",
     "text": [
      "c a t\n",
      "c t a\n",
      "a c t\n",
      "a t c\n",
      "t c a\n",
      "t a c\n",
      "\n"
     ]
    }
   ],
   "source": [
    "def get_permutations(s, n):\n",
    "    for x in itertools.permutations(s, n):\n",
    "        yield x\n",
    "for i in get_permutations('cat', 3):\n",
    "    print(*i, end = '\\n')\n",
    "print()"
   ]
  },
  {
   "cell_type": "markdown",
   "metadata": {},
   "source": [
    "# Упражнение 3"
   ]
  },
  {
   "cell_type": "code",
   "execution_count": 4,
   "metadata": {},
   "outputs": [
    {
     "name": "stdout",
     "output_type": "stream",
     "text": [
      "c \n",
      "a \n",
      "t \n",
      "c a \n",
      "c t \n",
      "a t \n",
      "\n"
     ]
    }
   ],
   "source": [
    "def get_combinations(s, n):\n",
    "    for i in range(1, n+1):\n",
    "        for x in itertools.combinations(s, i):\n",
    "            yield x\n",
    "        \n",
    "\n",
    "for i in get_combinations(\"cat\", 2):\n",
    "    print(*i, end= ' \\n')\n",
    "print()"
   ]
  },
  {
   "cell_type": "markdown",
   "metadata": {},
   "source": [
    "# Упражнение 4"
   ]
  },
  {
   "cell_type": "code",
   "execution_count": 5,
   "metadata": {},
   "outputs": [
    {
     "name": "stdout",
     "output_type": "stream",
     "text": [
      "c c\n",
      "c a\n",
      "c t\n",
      "a a\n",
      "a t\n",
      "t t\n",
      "\n"
     ]
    }
   ],
   "source": [
    "def get_combinations_with_r(s, n):\n",
    "    for i in itertools.combinations_with_replacement(s, n):\n",
    "        yield i\n",
    "\n",
    "for i in get_combinations_with_r('cat', 2):\n",
    "    print(*i, end = '\\n')\n",
    "print()"
   ]
  },
  {
   "cell_type": "markdown",
   "metadata": {},
   "source": [
    "# Упражнение 5"
   ]
  },
  {
   "cell_type": "code",
   "execution_count": 6,
   "metadata": {},
   "outputs": [
    {
     "name": "stdout",
     "output_type": "stream",
     "text": [
      "(1, 1)\n",
      "(3, 2)\n",
      "(1, 3)\n",
      "(2, 1)\n"
     ]
    }
   ],
   "source": [
    "def compress_string(s):\n",
    "    for key, group in itertools.groupby(s, key = None):\n",
    "        \n",
    "        yield len(list(group)), int(key)\n",
    "        \n",
    "for i in compress_string('1222311'):\n",
    "    print(i)"
   ]
  },
  {
   "cell_type": "markdown",
   "metadata": {},
   "source": [
    "# Упражнение 6"
   ]
  },
  {
   "cell_type": "code",
   "execution_count": 7,
   "metadata": {},
   "outputs": [
    {
     "name": "stdout",
     "output_type": "stream",
     "text": [
      "206\n"
     ]
    }
   ],
   "source": [
    "def maximize(lists, m):\n",
    "    for i in range(len(lists)):\n",
    "        yield max(lists[i])**2 % m\n",
    "    \n",
    "    \n",
    "lists = [\n",
    "    [5, 4],\n",
    "    [7, 8, 9],\n",
    "    [5, 7, 8, 9, 10]\n",
    "]   \n",
    "\n",
    "result = 0\n",
    "for i in maximize(lists, 1000):\n",
    "    result += i\n",
    "print(result)"
   ]
  }
 ],
 "metadata": {
  "kernelspec": {
   "display_name": "Python 3",
   "language": "python",
   "name": "python3"
  },
  "language_info": {
   "codemirror_mode": {
    "name": "ipython",
    "version": 3
   },
   "file_extension": ".py",
   "mimetype": "text/x-python",
   "name": "python",
   "nbconvert_exporter": "python",
   "pygments_lexer": "ipython3",
   "version": "3.7.4"
  }
 },
 "nbformat": 4,
 "nbformat_minor": 2
}
