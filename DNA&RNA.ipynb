{
 "cells": [
  {
   "cell_type": "markdown",
   "metadata": {},
   "source": [
    "Реализуйте классы для ДНК (двойная цепочк) и РНК (одинарная цепочка). Данные структуры данных должны поддерживать следующие возможности:\n",
    "\n",
    "1. Создавать структуру из строк. Обратите внимание, что в ДНК встречаются только азотистые основания ATGC, а в РНК (AUGC) поэтому если во входной строке содержались другие символы, необходимо поднимать ошибку (Exception).\n",
    "2. Поддерживают индексацию. РНК по индексу возвращает i-ое азотистое основание, ДНК - пару азотистых оснований (соответствующие первой и второй цепочке)\n",
    "3. РНК может возвращать комплиментарную ДНК (каждому азотистому основанию из РНК соответсвует соответсвующее основание для первой цепочки ДНК: A → T, U → A, G → C, C → G. Вторая цепочка ДНК строится комплиментарной первой строчке ДНК: A → T, T → A, G → C, C → G)\n",
    "4. РНК, как и ДНК, могут складываться путем склеивания (\"AUUGAACUA\" + \"CGGAAA\" = \"AUUGAACUACGGAAA\"). У ДНК склеиваются соответствующие цепочки ([\"ACG\", \"TGC\"] + [\"TTTAAT\", \"AAATTA\"] = [\"ACGTTTAAT\", \"TGCAAATTA\"])\n",
    "5. РНК могут перемножаться друг с другом: каждое азотистое основание результирующей РНК получается случайным выбором одного из двух соответсвующих родительских азотистых оснований. Если одна из цепочек длиннее другой, то перемножение происходит с начала, когда одна из цепочек закончится оставшийся хвост другой переносится без изменений. Умножение РНК\n",
    "6. ДНК могут перемножаться друг с другом: ПЕРВЫЕ цепочки каждой из ДНК перемножаются по такому же приницпу, как перемножаются РНК выше. Вторая цепочка результирующей ДНК строится как комплиментарная первой\n",
    "7. Цепочки РНК и первую и вторую у ДНК можно проверять на равенство\n",
    "8. Оба класса должны давать осмысленный вывод как при print, так и просто при вызове в ячейке"
   ]
  },
  {
   "cell_type": "code",
   "execution_count": 27,
   "metadata": {},
   "outputs": [],
   "source": [
    "import random\n",
    "\n",
    "\n",
    "class AnotherSymbolError(Exception):\n",
    "    pass\n",
    "\n",
    "\n",
    "class DNA():\n",
    "    def __init__(self, chain):  # введем одну цепь ДНК, вторую строим комплементарно первой\n",
    "        if not set(chain).issubset({'A', 'C', 'G', 'T'}):\n",
    "            raise AnotherSymbolError('В строке есть символы, не содержащиеся в ДНК')\n",
    "        self.strand1 = chain\n",
    "        self.strand2 = ''.join([{'A': 'T', 'T': 'A', 'G': 'C', 'C': 'G'}[symbol] for symbol in self.strand1])\n",
    "\n",
    "    \n",
    "    def __str__(self):\n",
    "        return str([self.strand1, self.strand2])\n",
    "\n",
    "\n",
    "    def __repr__(self):\n",
    "        return str([self.strand1, self.strand2])\n",
    "\n",
    "\n",
    "    def __getitem__(self, i):\n",
    "        return self.strand1[i], self.strand2[i]\n",
    "\n",
    "\n",
    "    def __add__(self, another):\n",
    "        return DNA(self.strand1 + another.strand1)\n",
    "\n",
    "\n",
    "    def __mul__(self, another):\n",
    "        firstLength, secondLength = len(self.strand1), len(another.strand1)\n",
    "        if firstLength > secondLength:\n",
    "            end = self.strand1[-firstLength + secondLength:]\n",
    "        else:\n",
    "            end = another.strand1[-secondLength + firstLength:]\n",
    "        return DNA(''.join([random.choice([symbol1, symbol2]) for symbol1, symbol2 in zip(self.strand1, another.strand1)]) + end)\n",
    "\n",
    "\n",
    "    def __eq__(self, another):  # ДНК (цепь1, цепь2) == ДНК (цепь2, цепь1) \n",
    "        return (self.strand1 == another.strand1 or self.strand1 == another.strand2) \n",
    "\n",
    "\n",
    "class RNA(str):\n",
    "    def __init__(self, chain):\n",
    "        if not set(chain).issubset({'A', 'C', 'G', 'U'}):\n",
    "            raise AnotherSymbolError('В строке есть символы, не содержащиеся в РНК')\n",
    "        self.rna = chain\n",
    "\n",
    "\n",
    "    def __getitem__(self, i):\n",
    "        return self.rna[i]\n",
    "\n",
    "\n",
    "    @property\n",
    "    def getComplementaryDNA(self):\n",
    "        return DNA(''.join([{'A': 'T', 'U': 'A', 'G': 'C', 'C': 'G'}[symbol] for symbol in self.rna]))\n",
    "\n",
    "\n",
    "    def __add__(self, another):\n",
    "        return RNA(self.rna + another.rna)\n",
    "\n",
    "\n",
    "    def __mul__(self, another):\n",
    "        firstLength, secondLength = len(self.rna), len(another.rna)\n",
    "        if firstLength > secondLength:\n",
    "            end = self.rna[-firstLength + secondLength:]\n",
    "        else:\n",
    "            end = another.rna[-secondLength + firstLength:]\n",
    "        print(''.join([random.choice([symbol1, symbol2]) for symbol1, symbol2 in zip(self.rna, another.rna)]) + end)\n",
    "        return RNA(''.join([random.choice([symbol1, symbol2]) for symbol1, symbol2 in zip(self.rna, another.rna)]) + end)\n",
    "\n",
    "\n",
    "    def __eq__(self, another):\n",
    "        return self.rna == another.rna\n",
    "\n",
    "\n",
    "    def __str__(self):\n",
    "        return self.rna\n",
    "\n",
    "\n",
    "    def __repr__(self):\n",
    "        return self.rna"
   ]
  },
  {
   "cell_type": "markdown",
   "metadata": {},
   "source": [
    "Проверим ДНК:"
   ]
  },
  {
   "cell_type": "code",
   "execution_count": 28,
   "metadata": {},
   "outputs": [],
   "source": [
    "dna = DNA('ATCG')"
   ]
  },
  {
   "cell_type": "code",
   "execution_count": 29,
   "metadata": {},
   "outputs": [
    {
     "name": "stdout",
     "output_type": "stream",
     "text": [
      "['ATCG', 'TAGC']\n"
     ]
    },
    {
     "data": {
      "text/plain": [
       "['ATCG', 'TAGC']"
      ]
     },
     "execution_count": 29,
     "metadata": {},
     "output_type": "execute_result"
    }
   ],
   "source": [
    "print(dna)\n",
    "dna"
   ]
  },
  {
   "cell_type": "code",
   "execution_count": 30,
   "metadata": {},
   "outputs": [
    {
     "data": {
      "text/plain": [
       "('C', 'G')"
      ]
     },
     "execution_count": 30,
     "metadata": {},
     "output_type": "execute_result"
    }
   ],
   "source": [
    "dna[2]"
   ]
  },
  {
   "cell_type": "code",
   "execution_count": 31,
   "metadata": {},
   "outputs": [
    {
     "data": {
      "text/plain": [
       "['ATCGGCTA', 'TAGCCGAT']"
      ]
     },
     "execution_count": 31,
     "metadata": {},
     "output_type": "execute_result"
    }
   ],
   "source": [
    "dna + DNA('GCTA')"
   ]
  },
  {
   "cell_type": "code",
   "execution_count": 32,
   "metadata": {},
   "outputs": [
    {
     "data": {
      "text/plain": [
       "['GTCAT', 'CAGTA']"
      ]
     },
     "execution_count": 32,
     "metadata": {},
     "output_type": "execute_result"
    }
   ],
   "source": [
    "dna * DNA('GCTAT')"
   ]
  },
  {
   "cell_type": "markdown",
   "metadata": {},
   "source": [
    "Проверим РНК:"
   ]
  },
  {
   "cell_type": "code",
   "execution_count": 33,
   "metadata": {},
   "outputs": [],
   "source": [
    "rna = RNA('AUCG')"
   ]
  },
  {
   "cell_type": "code",
   "execution_count": 34,
   "metadata": {},
   "outputs": [
    {
     "name": "stdout",
     "output_type": "stream",
     "text": [
      "AUCG\n"
     ]
    },
    {
     "data": {
      "text/plain": [
       "AUCG"
      ]
     },
     "execution_count": 34,
     "metadata": {},
     "output_type": "execute_result"
    }
   ],
   "source": [
    "print(rna)\n",
    "rna"
   ]
  },
  {
   "cell_type": "code",
   "execution_count": 35,
   "metadata": {},
   "outputs": [
    {
     "data": {
      "text/plain": [
       "'C'"
      ]
     },
     "execution_count": 35,
     "metadata": {},
     "output_type": "execute_result"
    }
   ],
   "source": [
    "rna[2]"
   ]
  },
  {
   "cell_type": "code",
   "execution_count": 36,
   "metadata": {},
   "outputs": [
    {
     "data": {
      "text/plain": [
       "['TAGC', 'ATCG']"
      ]
     },
     "execution_count": 36,
     "metadata": {},
     "output_type": "execute_result"
    }
   ],
   "source": [
    "rna.getComplementaryDNA"
   ]
  },
  {
   "cell_type": "code",
   "execution_count": 37,
   "metadata": {},
   "outputs": [
    {
     "data": {
      "text/plain": [
       "AUCGGCUA"
      ]
     },
     "execution_count": 37,
     "metadata": {},
     "output_type": "execute_result"
    }
   ],
   "source": [
    "rna + RNA('GCUA')"
   ]
  },
  {
   "cell_type": "code",
   "execution_count": 38,
   "metadata": {},
   "outputs": [
    {
     "name": "stdout",
     "output_type": "stream",
     "text": [
      "GUUAU\n"
     ]
    },
    {
     "data": {
      "text/plain": [
       "AUUAU"
      ]
     },
     "execution_count": 38,
     "metadata": {},
     "output_type": "execute_result"
    }
   ],
   "source": [
    "rna * RNA('GCUAU')"
   ]
  },
  {
   "cell_type": "code",
   "execution_count": 39,
   "metadata": {},
   "outputs": [
    {
     "name": "stdout",
     "output_type": "stream",
     "text": [
      "False\n",
      "True\n"
     ]
    }
   ],
   "source": [
    "print(rna == RNA('GCUA'))\n",
    "print(rna == RNA('GCUA'[::-1]))"
   ]
  }
 ],
 "metadata": {
  "kernelspec": {
   "display_name": "Python 3",
   "language": "python",
   "name": "python3"
  },
  "language_info": {
   "codemirror_mode": {
    "name": "ipython",
    "version": 3
   },
   "file_extension": ".py",
   "mimetype": "text/x-python",
   "name": "python",
   "nbconvert_exporter": "python",
   "pygments_lexer": "ipython3",
   "version": "3.7.4"
  }
 },
 "nbformat": 4,
 "nbformat_minor": 2
}
