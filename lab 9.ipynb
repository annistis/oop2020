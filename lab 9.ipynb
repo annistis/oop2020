{
 "cells": [
  {
   "cell_type": "markdown",
   "metadata": {},
   "source": [
    "# Упражнение 4"
   ]
  },
  {
   "cell_type": "code",
   "execution_count": 4,
   "metadata": {},
   "outputs": [],
   "source": [
    "import numpy as np"
   ]
  },
  {
   "cell_type": "code",
   "execution_count": null,
   "metadata": {},
   "outputs": [
    {
     "name": "stdout",
     "output_type": "stream",
     "text": [
      "4\n",
      "Average 4.0\n",
      "Количество переданных данных 1\n",
      "Дисперсия 0.0\n",
      "7\n",
      "Average 5.5\n",
      "Количество переданных данных 2\n",
      "Дисперсия 2.25\n",
      "8\n",
      "Average 6.333333333333333\n",
      "Количество переданных данных 3\n",
      "Дисперсия 2.888888888888889\n",
      "4\n",
      "Average 5.75\n",
      "Количество переданных данных 4\n",
      "Дисперсия 3.1875\n",
      "6\n",
      "Average 5.8\n",
      "Количество переданных данных 5\n",
      "Дисперсия 2.5599999999999996\n",
      "9\n",
      "Average 6.333333333333333\n",
      "Количество переданных данных 6\n",
      "Дисперсия 3.5555555555555554\n",
      "4\n",
      "Average 6.0\n",
      "Количество переданных данных 7\n",
      "Дисперсия 3.7142857142857144\n",
      "7\n",
      "Average 6.125\n",
      "Количество переданных данных 8\n",
      "Дисперсия 3.359375\n",
      "5\n",
      "Average 6.0\n",
      "Количество переданных данных 9\n",
      "Дисперсия 3.111111111111111\n",
      "3\n",
      "Average 5.7\n",
      "Количество переданных данных 10\n",
      "Дисперсия 3.6100000000000003\n",
      "7\n",
      "Average 5.818181818181818\n",
      "Количество переданных данных 11\n",
      "Дисперсия 3.4214876033057853\n",
      "8\n",
      "Average 6.0\n",
      "Количество переданных данных 12\n",
      "Дисперсия 3.5\n",
      "6\n",
      "Average 6.0\n",
      "Количество переданных данных 13\n",
      "Дисперсия 3.230769230769231\n",
      "5\n",
      "Average 5.928571428571429\n",
      "Количество переданных данных 14\n",
      "Дисперсия 3.066326530612245\n",
      "3\n",
      "Average 5.733333333333333\n",
      "Количество переданных данных 15\n",
      "Дисперсия 3.3955555555555557\n",
      "8\n",
      "Average 5.875\n",
      "Количество переданных данных 16\n",
      "Дисперсия 3.484375\n",
      "7\n",
      "Average 5.9411764705882355\n",
      "Количество переданных данных 17\n",
      "Дисперсия 3.3494809688581317\n",
      "5\n",
      "Average 5.888888888888889\n",
      "Количество переданных данных 18\n",
      "Дисперсия 3.2098765432098766\n",
      "7\n",
      "Average 5.947368421052632\n",
      "Количество переданных данных 19\n",
      "Дисперсия 3.102493074792244\n",
      "5\n",
      "Average 5.9\n",
      "Количество переданных данных 20\n",
      "Дисперсия 2.99\n"
     ]
    }
   ],
   "source": [
    "def print_coroutine(x):\n",
    "    aver = 0\n",
    "    n = 0\n",
    "    arr = []\n",
    "    while True:\n",
    "        x = yield x\n",
    "        n += 1\n",
    "        arr.append(x)\n",
    "        disp = np.var(arr)\n",
    "        aver = (aver*(n-1)+x)/(n)\n",
    "        #print(\"Got value\", x)\n",
    "        print('Average', aver)\n",
    "        print('Количество переданных данных', n)\n",
    "        print('Дисперсия', disp)\n",
    "\n",
    "data = input()\n",
    "coroutine = print_coroutine(data)\n",
    "next(coroutine)\n",
    "while data != '':\n",
    "    coroutine.send(int(data))\n",
    "    data = input()"
   ]
  }
 ],
 "metadata": {
  "kernelspec": {
   "display_name": "Python 3",
   "language": "python",
   "name": "python3"
  },
  "language_info": {
   "codemirror_mode": {
    "name": "ipython",
    "version": 3
   },
   "file_extension": ".py",
   "mimetype": "text/x-python",
   "name": "python",
   "nbconvert_exporter": "python",
   "pygments_lexer": "ipython3",
   "version": "3.7.4"
  }
 },
 "nbformat": 4,
 "nbformat_minor": 2
}
