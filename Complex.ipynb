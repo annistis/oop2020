{
 "cells": [
  {
   "cell_type": "markdown",
   "metadata": {},
   "source": [
    "Реализуйте свой класс Complex для комплексных чисел, аналогично встроенной реализации complex: \n",
    "1. Добавьте инициализатор класса \n",
    "2. Реализуйте основные математические операции \n",
    "3. Реализуйте операцию модуля (abs, вызываемую как |c|) \n",
    "4. Оба класса должны давать осмысленный вывод как при print, так и просто при вызове в ячейке"
   ]
  },
  {
   "cell_type": "code",
   "execution_count": 1,
   "metadata": {},
   "outputs": [],
   "source": [
    "from math import sqrt\n",
    "\n",
    "\n",
    "class Complex:\n",
    "    def __init__(self, x, y):  # комплексное число в алгебраической форме z = x + iy\n",
    "        self.x = x\n",
    "        self.y = y\n",
    "\n",
    "\n",
    "    @property\n",
    "    def abs(self):\n",
    "        return sqrt(self.x ** 2 + self.y ** 2)\n",
    "\n",
    "\n",
    "    def __eq__(self, anotherNumber):\n",
    "        return (self.x == anotherNumber.x and self.y == anotherNumber.y)\n",
    "\n",
    "\n",
    "    def __add__(self, anotherNumber):\n",
    "        return Complex(self.x + anotherNumber.x, self.y + anotherNumber.y)\n",
    "\n",
    "\n",
    "    def __sub__(self, anotherNumber):\n",
    "        return Complex(self.x - anotherNumber.x, self.y - anotherNumber.y)\n",
    "\n",
    "\n",
    "    def __mul__(self, anotherNumber):\n",
    "        return Complex(\n",
    "            self.x * anotherNumber.x - self.y * anotherNumber.y,\n",
    "            self.y * anotherNumber.x + self.x * anotherNumber.y\n",
    "        )\n",
    "\n",
    "\n",
    "    def __truediv__(self, anotherNumber):\n",
    "        return Complex(\n",
    "            (self.x * anotherNumber.x + self.y * anotherNumber.y) / anotherNumber.abs ** 2,\n",
    "            (self.y * anotherNumber.x - self.x * anotherNumber.y) / anotherNumber.abs ** 2\n",
    "        )\n",
    "\n",
    "\n",
    "    def __str__(self):\n",
    "        if self.y == 0:\n",
    "            return str(self.x)\n",
    "        elif self.x == 0 and self.y != 0:\n",
    "            if self.y == 1:\n",
    "                return 'i'\n",
    "            else:\n",
    "                return str(self.y) + 'i'\n",
    "        else:\n",
    "            if self.y == 1:\n",
    "                return str(self.x) + ' + i'\n",
    "            else:\n",
    "                return str(self.x) + ' + ' + str(self.y) + 'i'\n",
    "\n",
    "\n",
    "    def __repr__(self):\n",
    "        return Complex.__str__(self)"
   ]
  },
  {
   "cell_type": "markdown",
   "metadata": {},
   "source": [
    "Проверим:"
   ]
  },
  {
   "cell_type": "code",
   "execution_count": 2,
   "metadata": {},
   "outputs": [],
   "source": [
    "a = Complex(1, 2)\n",
    "b = Complex(2, 1)\n",
    "real = Complex(5, 0)\n",
    "imaginary = Complex(0, 5)\n",
    "imaginary_unit = Complex(0, 1)"
   ]
  },
  {
   "cell_type": "code",
   "execution_count": 3,
   "metadata": {},
   "outputs": [
    {
     "data": {
      "text/plain": [
       "(1 + 2i, 2 + i, 5, 5i, i)"
      ]
     },
     "execution_count": 3,
     "metadata": {},
     "output_type": "execute_result"
    }
   ],
   "source": [
    "a, b, real, imaginary, imaginary_unit"
   ]
  },
  {
   "cell_type": "code",
   "execution_count": 4,
   "metadata": {},
   "outputs": [
    {
     "name": "stdout",
     "output_type": "stream",
     "text": [
      "1 + 2i\n"
     ]
    }
   ],
   "source": [
    "print(a)"
   ]
  },
  {
   "cell_type": "code",
   "execution_count": 5,
   "metadata": {},
   "outputs": [
    {
     "data": {
      "text/plain": [
       "(3 + 3i, -1 + i, 5i, 0.7999999999999998 + 0.5999999999999999i)"
      ]
     },
     "execution_count": 5,
     "metadata": {},
     "output_type": "execute_result"
    }
   ],
   "source": [
    "a + b, a - b, a * b, a / b"
   ]
  },
  {
   "cell_type": "code",
   "execution_count": 6,
   "metadata": {},
   "outputs": [
    {
     "data": {
      "text/plain": [
       "(2.23606797749979, 2.23606797749979)"
      ]
     },
     "execution_count": 6,
     "metadata": {},
     "output_type": "execute_result"
    }
   ],
   "source": [
    "a.abs, b.abs"
   ]
  }
 ],
 "metadata": {
  "kernelspec": {
   "display_name": "Python 3",
   "language": "python",
   "name": "python3"
  },
  "language_info": {
   "codemirror_mode": {
    "name": "ipython",
    "version": 3
   },
   "file_extension": ".py",
   "mimetype": "text/x-python",
   "name": "python",
   "nbconvert_exporter": "python",
   "pygments_lexer": "ipython3",
   "version": "3.7.4"
  }
 },
 "nbformat": 4,
 "nbformat_minor": 2
}
